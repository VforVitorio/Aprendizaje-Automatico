{
 "cells": [
  {
   "cell_type": "markdown",
   "metadata": {},
   "source": [
    "# PL04. Linear Discriminant Analysis (LDA) (Scikit-Learn)\n",
    "\n",
    "__Borja González Seoane. Machine Learning. Course 2024-25__\n",
    "## Practice carried out by Víctor Vega Sobral\n",
    "\n",
    "In this practice we will work with the Iris *dataset* from the `sklearn` library. Linear discriminant analysis (LDA) will be applied to classify the three species of flowers contained in the *dataset*.\n",
    "\n",
    "Steps:\n",
    "\n",
    "1. Load the Iris *dataset* from the `sklearn` library.\n",
    "2. Split the *dataset* into two sets: training and test. Reserve 30% of the samples for testing. Use seed `42`.\n",
    "3. Train an LDA model. Investigate the LDA implementation in `sklearn`.\n",
    "4. Evaluate the model with the test set. Calculate the **accuracy**.\n"
   ]
  },
  {
   "cell_type": "code",
   "execution_count": 2,
   "metadata": {},
   "outputs": [],
   "source": [
    "import numpy as np\n",
    "import pandas as pd\n",
    "import matplotlib as plt \n",
    "from ucimlrepo import fetch_ucirepo \n"
   ]
  },
  {
   "cell_type": "code",
   "execution_count": 3,
   "metadata": {},
   "outputs": [],
   "source": [
    "TEST_SPLIT_SIZE = 0.3\n",
    "RANDOM_STATE = 42"
   ]
  },
  {
   "cell_type": "markdown",
   "metadata": {},
   "source": [
    "## Dataset loading"
   ]
  },
  {
   "cell_type": "code",
   "execution_count": 4,
   "metadata": {},
   "outputs": [
    {
     "name": "stdout",
     "output_type": "stream",
     "text": [
      "   sepal length  sepal width  petal length  petal width\n",
      "0           5.1          3.5           1.4          0.2\n",
      "1           4.9          3.0           1.4          0.2\n",
      "2           4.7          3.2           1.3          0.2\n",
      "3           4.6          3.1           1.5          0.2\n",
      "4           5.0          3.6           1.4          0.2\n"
     ]
    }
   ],
   "source": [
    "# fetch dataset \n",
    "iris = fetch_ucirepo(id=53) \n",
    "  \n",
    "X_pd = iris[\"data\"][\"features\"]\n",
    "y_pd = iris[\"data\"][\"targets\"]\n",
    "\n",
    "\n",
    "\n",
    "print(X_pd.head())\n",
    "\n",
    "\n",
    "\n"
   ]
  },
  {
   "cell_type": "markdown",
   "metadata": {},
   "source": [
    "## Data partition\n",
    "\n",
    "A test subset is reserved."
   ]
  },
  {
   "cell_type": "code",
   "execution_count": null,
   "metadata": {},
   "outputs": [
    {
     "name": "stdout",
     "output_type": "stream",
     "text": [
      "Dimensiones de los conjuntos:\n",
      "X_train: (120, 4)\n",
      "X_test: (30, 4)\n",
      "y_train: (120, 1)\n",
      "y_test: (30, 1)\n"
     ]
    }
   ],
   "source": [
    "from sklearn.model_selection import train_test_split \n",
    "\n",
    "X_train, X_test, y_train, y_test = train_test_split(X_pd, y_pd, test_size = 0.2, random_state = 42)\n",
    "\n",
    "# Check the dimensions of the datasets\n",
    "print(\"Dataset dimensions:\")\n",
    "print(f\"X_train: {X_train.shape}\")\n",
    "print(f\"X_test: {X_test.shape}\")\n",
    "print(f\"y_train: {y_train.shape}\")\n",
    "print(f\"y_test: {y_test.shape}\")\n"
   ]
  },
  {
   "cell_type": "markdown",
   "metadata": {},
   "source": [
    "## Instantiate and train LDA model"
   ]
  },
  {
   "cell_type": "code",
   "execution_count": null,
   "metadata": {},
   "outputs": [
    {
     "name": "stderr",
     "output_type": "stream",
     "text": [
      "d:\\Users\\O M E N\\miniconda3\\envs\\conda_env\\Lib\\site-packages\\sklearn\\utils\\validation.py:1339: DataConversionWarning: A column-vector y was passed when a 1d array was expected. Please change the shape of y to (n_samples, ), for example using ravel().\n",
      "  y = column_or_1d(y, warn=True)\n"
     ]
    }
   ],
   "source": [
    "from sklearn.discriminant_analysis import LinearDiscriminantAnalysis\n",
    "\n",
    "lda = LinearDiscriminantAnalysis()\n",
    "# Model training\n",
    "lda.fit(X_train, y_train)\n",
    "\n",
    "# Model predictions\n",
    "y_pred = lda.predict(X_test)\n",
    "\n",
    "\n"
   ]
  },
  {
   "cell_type": "markdown",
   "metadata": {},
   "source": [
    "## Model evaluation\n",
    "\n",
    "In this case the **accuracy** of the model is measured."
   ]
  },
  {
   "cell_type": "code",
   "execution_count": null,
   "metadata": {},
   "outputs": [
    {
     "name": "stdout",
     "output_type": "stream",
     "text": [
      "La precisión del modelo es de 1.00\n",
      "\n",
      "Predicciones vs Etiquetas Reales:\n",
      "Predicción: Iris-versicolor, Real: ['Iris-versicolor']\n",
      "Predicción: Iris-setosa, Real: ['Iris-setosa']\n",
      "Predicción: Iris-virginica, Real: ['Iris-virginica']\n",
      "Predicción: Iris-versicolor, Real: ['Iris-versicolor']\n",
      "Predicción: Iris-versicolor, Real: ['Iris-versicolor']\n",
      "Predicción: Iris-setosa, Real: ['Iris-setosa']\n",
      "Predicción: Iris-versicolor, Real: ['Iris-versicolor']\n",
      "Predicción: Iris-virginica, Real: ['Iris-virginica']\n",
      "Predicción: Iris-versicolor, Real: ['Iris-versicolor']\n",
      "Predicción: Iris-versicolor, Real: ['Iris-versicolor']\n",
      "Predicción: Iris-virginica, Real: ['Iris-virginica']\n",
      "Predicción: Iris-setosa, Real: ['Iris-setosa']\n",
      "Predicción: Iris-setosa, Real: ['Iris-setosa']\n",
      "Predicción: Iris-setosa, Real: ['Iris-setosa']\n",
      "Predicción: Iris-setosa, Real: ['Iris-setosa']\n",
      "Predicción: Iris-versicolor, Real: ['Iris-versicolor']\n",
      "Predicción: Iris-virginica, Real: ['Iris-virginica']\n",
      "Predicción: Iris-versicolor, Real: ['Iris-versicolor']\n",
      "Predicción: Iris-versicolor, Real: ['Iris-versicolor']\n",
      "Predicción: Iris-virginica, Real: ['Iris-virginica']\n",
      "Predicción: Iris-setosa, Real: ['Iris-setosa']\n",
      "Predicción: Iris-virginica, Real: ['Iris-virginica']\n",
      "Predicción: Iris-setosa, Real: ['Iris-setosa']\n",
      "Predicción: Iris-virginica, Real: ['Iris-virginica']\n",
      "Predicción: Iris-virginica, Real: ['Iris-virginica']\n",
      "Predicción: Iris-virginica, Real: ['Iris-virginica']\n",
      "Predicción: Iris-virginica, Real: ['Iris-virginica']\n",
      "Predicción: Iris-virginica, Real: ['Iris-virginica']\n",
      "Predicción: Iris-setosa, Real: ['Iris-setosa']\n",
      "Predicción: Iris-setosa, Real: ['Iris-setosa']\n"
     ]
    }
   ],
   "source": [
    "from sklearn.metrics import accuracy_score\n",
    "# Model evaluation\n",
    "accuracy = accuracy_score(y_test, y_pred)\n",
    "\n",
    "print(f\"The model accuracy is {accuracy:.2f}\")\n",
    "\n",
    "y_test = np.array(y_test)\n",
    "y_pred = np.array(y_pred)\n",
    "\n",
    "# Check model performance\n",
    "print(\"\\nPredictions vs Real Labels:\")\n",
    "for i in range(len(y_test)):\n",
    "    print(f\"Prediction: {y_pred[i]}, Real: {y_test[i]}\")"
   ]
  }
 ],
 "metadata": {
  "kernelspec": {
   "display_name": "conda_env",
   "language": "python",
   "name": "python3"
  },
  "language_info": {
   "codemirror_mode": {
    "name": "ipython",
    "version": 3
   },
   "file_extension": ".py",
   "mimetype": "text/x-python",
   "name": "python",
   "nbconvert_exporter": "python",
   "pygments_lexer": "ipython3",
   "version": "3.12.3"
  }
 },
 "nbformat": 4,
 "nbformat_minor": 2
}
