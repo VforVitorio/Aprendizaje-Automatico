{
 "cells": [
  {
   "cell_type": "markdown",
   "metadata": {},
   "source": [
    "# PL04. Análisis Discriminante Lineal (LDA) (Scikit-Learn)\n",
    "\n",
    "__Borja González Seoane. Aprendizaje Automático. Curso 2024-25__\n",
    "## Practica realizada por Víctor Vega Sobral\n",
    "\n",
    "En esta práctica se trabajará con el *dataset* Iris de la librería `sklearn`. Se aplicará el análisis discriminante lineal (LDA) para clasificar las tres especies de flores que contiene el *dataset*.\n",
    "\n",
    "Pasos:\n",
    "\n",
    "1. Cargar el *dataset* Iris de la librería `sklearn`.\n",
    "2. Partir el *dataset* en dos conjuntos: entrenamiento y test. Reservar un 30 % de las muestras para test. Úsese la semilla `42`.\n",
    "3. Entrenar un modelo LDA. Investigar la implementación de LDA en `sklearn`.\n",
    "4. Evaluar el modelo con el conjunto de test. Calcular la **precisión**.\n"
   ]
  },
  {
   "cell_type": "code",
   "execution_count": 25,
   "metadata": {},
   "outputs": [],
   "source": [
    "import numpy as np\n",
    "import pandas as pd\n",
    "import matplotlib as plt \n",
    "from ucimlrepo import fetch_ucirepo \n"
   ]
  },
  {
   "cell_type": "code",
   "execution_count": 26,
   "metadata": {},
   "outputs": [],
   "source": [
    "TEST_SPLIT_SIZE = 0.3\n",
    "RANDOM_STATE = 42"
   ]
  },
  {
   "cell_type": "markdown",
   "metadata": {},
   "source": [
    "## Carga del conjunto de datos"
   ]
  },
  {
   "cell_type": "code",
   "execution_count": 27,
   "metadata": {},
   "outputs": [
    {
     "name": "stdout",
     "output_type": "stream",
     "text": [
      "   sepal length  sepal width  petal length  petal width\n",
      "0           5.1          3.5           1.4          0.2\n",
      "1           4.9          3.0           1.4          0.2\n",
      "2           4.7          3.2           1.3          0.2\n",
      "3           4.6          3.1           1.5          0.2\n",
      "4           5.0          3.6           1.4          0.2\n"
     ]
    }
   ],
   "source": [
    "# fetch dataset \n",
    "iris = fetch_ucirepo(id=53) \n",
    "  \n",
    "X_pd = iris[\"data\"][\"features\"]\n",
    "y_pd = iris[\"data\"][\"targets\"]\n",
    "\n",
    "\n",
    "\n",
    "print(X_pd.head())\n",
    "\n",
    "\n",
    "\n"
   ]
  },
  {
   "cell_type": "markdown",
   "metadata": {},
   "source": [
    "## Partición de los datos\n",
    "\n",
    "Se reserva un subconjunto de test."
   ]
  },
  {
   "cell_type": "code",
   "execution_count": 28,
   "metadata": {},
   "outputs": [
    {
     "name": "stdout",
     "output_type": "stream",
     "text": [
      "Dimensiones de los conjuntos:\n",
      "X_train: (120, 4)\n",
      "X_test: (30, 4)\n",
      "y_train: (120, 1)\n",
      "y_test: (30, 1)\n"
     ]
    }
   ],
   "source": [
    "from sklearn.model_selection import train_test_split \n",
    "\n",
    "X_train, X_test, y_train, y_test = train_test_split(X_pd, y_pd, test_size = 0.2, random_state = 42)\n",
    "\n",
    "# Comprobación de las dimensiones de los conjuntos de datos\n",
    "print(\"Dimensiones de los conjuntos:\")\n",
    "print(f\"X_train: {X_train.shape}\")\n",
    "print(f\"X_test: {X_test.shape}\")\n",
    "print(f\"y_train: {y_train.shape}\")\n",
    "print(f\"y_test: {y_test.shape}\")\n"
   ]
  },
  {
   "cell_type": "markdown",
   "metadata": {},
   "source": [
    "## Se instancia y entrena modelo LDA"
   ]
  },
  {
   "cell_type": "code",
   "execution_count": 29,
   "metadata": {},
   "outputs": [
    {
     "name": "stderr",
     "output_type": "stream",
     "text": [
      "d:\\Users\\O M E N\\miniconda3\\envs\\conda_env\\Lib\\site-packages\\sklearn\\utils\\validation.py:1339: DataConversionWarning: A column-vector y was passed when a 1d array was expected. Please change the shape of y to (n_samples, ), for example using ravel().\n",
      "  y = column_or_1d(y, warn=True)\n"
     ]
    }
   ],
   "source": [
    "from sklearn.discriminant_analysis import LinearDiscriminantAnalysis\n",
    "\n",
    "lda = LinearDiscriminantAnalysis()\n",
    "# Entrenamiento del modelo\n",
    "lda.fit(X_train, y_train)\n",
    "\n",
    "# Instancia del modelo \n",
    "y_pred = lda.predict(X_test)\n",
    "\n",
    "\n"
   ]
  },
  {
   "cell_type": "markdown",
   "metadata": {},
   "source": [
    "## Evaluación del modelo\n",
    "\n",
    "En este caso se mide la **precisión** del modelo."
   ]
  },
  {
   "cell_type": "code",
   "execution_count": 32,
   "metadata": {},
   "outputs": [
    {
     "name": "stdout",
     "output_type": "stream",
     "text": [
      "La precisión del modelo es de 1.00\n",
      "\n",
      "Predicciones vs Etiquetas Reales:\n",
      "Predicción: Iris-versicolor, Real: ['Iris-versicolor']\n",
      "Predicción: Iris-setosa, Real: ['Iris-setosa']\n",
      "Predicción: Iris-virginica, Real: ['Iris-virginica']\n",
      "Predicción: Iris-versicolor, Real: ['Iris-versicolor']\n",
      "Predicción: Iris-versicolor, Real: ['Iris-versicolor']\n",
      "Predicción: Iris-setosa, Real: ['Iris-setosa']\n",
      "Predicción: Iris-versicolor, Real: ['Iris-versicolor']\n",
      "Predicción: Iris-virginica, Real: ['Iris-virginica']\n",
      "Predicción: Iris-versicolor, Real: ['Iris-versicolor']\n",
      "Predicción: Iris-versicolor, Real: ['Iris-versicolor']\n",
      "Predicción: Iris-virginica, Real: ['Iris-virginica']\n",
      "Predicción: Iris-setosa, Real: ['Iris-setosa']\n",
      "Predicción: Iris-setosa, Real: ['Iris-setosa']\n",
      "Predicción: Iris-setosa, Real: ['Iris-setosa']\n",
      "Predicción: Iris-setosa, Real: ['Iris-setosa']\n",
      "Predicción: Iris-versicolor, Real: ['Iris-versicolor']\n",
      "Predicción: Iris-virginica, Real: ['Iris-virginica']\n",
      "Predicción: Iris-versicolor, Real: ['Iris-versicolor']\n",
      "Predicción: Iris-versicolor, Real: ['Iris-versicolor']\n",
      "Predicción: Iris-virginica, Real: ['Iris-virginica']\n",
      "Predicción: Iris-setosa, Real: ['Iris-setosa']\n",
      "Predicción: Iris-virginica, Real: ['Iris-virginica']\n",
      "Predicción: Iris-setosa, Real: ['Iris-setosa']\n",
      "Predicción: Iris-virginica, Real: ['Iris-virginica']\n",
      "Predicción: Iris-virginica, Real: ['Iris-virginica']\n",
      "Predicción: Iris-virginica, Real: ['Iris-virginica']\n",
      "Predicción: Iris-virginica, Real: ['Iris-virginica']\n",
      "Predicción: Iris-virginica, Real: ['Iris-virginica']\n",
      "Predicción: Iris-setosa, Real: ['Iris-setosa']\n",
      "Predicción: Iris-setosa, Real: ['Iris-setosa']\n"
     ]
    }
   ],
   "source": [
    "from sklearn.metrics import accuracy_score\n",
    "# Evaluacion del modelo \n",
    "\n",
    "precision = accuracy_score(y_test, y_pred)\n",
    "\n",
    "print(f\"La precisión del modelo es de {precision:.2f}\")\n",
    "\n",
    "y_test = np.array(y_test)\n",
    "y_pred = np.array(y_pred)\n",
    "\n",
    "# Comprobacion del funcionamiento del modelo \n",
    "print(\"\\nPredicciones vs Etiquetas Reales:\")\n",
    "for i in range(len(y_test)):\n",
    "    print(f\"Predicción: {y_pred[i]}, Real: {y_test[i]}\")"
   ]
  }
 ],
 "metadata": {
  "kernelspec": {
   "display_name": "conda_env",
   "language": "python",
   "name": "python3"
  },
  "language_info": {
   "codemirror_mode": {
    "name": "ipython",
    "version": 3
   },
   "file_extension": ".py",
   "mimetype": "text/x-python",
   "name": "python",
   "nbconvert_exporter": "python",
   "pygments_lexer": "ipython3",
   "version": "3.12.3"
  }
 },
 "nbformat": 4,
 "nbformat_minor": 2
}
