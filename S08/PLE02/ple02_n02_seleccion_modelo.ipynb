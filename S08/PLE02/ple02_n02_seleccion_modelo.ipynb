{
 "cells": [
  {
   "cell_type": "markdown",
   "metadata": {},
   "source": [
    "## Selección del modelo \n",
    "### Realizado por Víctor Vega Sobral"
   ]
  },
  {
   "cell_type": "markdown",
   "metadata": {},
   "source": [
    "#### Importación de bibliotecas"
   ]
  },
  {
   "cell_type": "code",
   "execution_count": null,
   "metadata": {},
   "outputs": [],
   "source": [
    "import pandas as pd\n",
    "from sklearn.model_selection import train_test_split,cross_val_score\n",
    "from sklearn.linear_model import LinearRegression\n",
    "from sklearn.metrics import mean_squared_error, mean_absolute_error, r2_score\n",
    "from sklearn.model_selection import RandomizedSearchCV\n",
    "from scipy.stats import uniform\n",
    "from sklearn.svm import SVR\n",
    "import matplotlib.pyplot as plt\n",
    "import numpy as np\n",
    "import joblib\n"
   ]
  },
  {
   "cell_type": "markdown",
   "metadata": {},
   "source": [
    "#### Partición del conjunto de datos para test"
   ]
  },
  {
   "cell_type": "code",
   "execution_count": 3,
   "metadata": {},
   "outputs": [
    {
     "name": "stdout",
     "output_type": "stream",
     "text": [
      "Conjunto de entrenamiento: (504, 5), (504,)\n",
      "Conjunto de prueba: (217, 5), (217,)\n"
     ]
    }
   ],
   "source": [
    "# Cargar los nuevos datos procesados desde el nuevo csv \n",
    "data = pd.read_csv('ple02_gimnasio_procesados.csv')\n",
    "\n",
    "# La columna o variable objetivo es \"Calories_Burned\"\n",
    "X = data.drop('Calories_Burned', axis = 1) # Caracteristicas\n",
    "y = data['Calories_Burned']\n",
    "\n",
    "\n",
    "# División del conjunto de datos\n",
    "X_train, X_test, y_train, y_test =  train_test_split(X, y, test_size=0.3, random_state=42)\n",
    "# Mostrar las dimensiones de los conjuntos resultantes\n",
    "print(f\"Conjunto de entrenamiento: {X_train.shape}, {y_train.shape}\")\n",
    "print(f\"Conjunto de prueba: {X_test.shape}, {y_test.shape}\")\n"
   ]
  },
  {
   "cell_type": "markdown",
   "metadata": {},
   "source": [
    "### Selección del modelo\n",
    "Se probarán 3 modelos diferentes de la librería Scikit-learn: \n",
    "- Regresión lineal\n",
    "- Máquinas de vectores regresores (SVR)\n",
    "- Regresión de bosque aleatorio \n",
    "\n",
    "#### Pasos a seguir\n",
    "Para los tres modelos, se seguirá el siguiente flujo de trabajo:\n",
    "1. Creación de instancia del modelo\n",
    "2. Entrenamiento del modelo \n",
    "    1. Validación cruzada.\n",
    "    2. Exploración de hiperparámetros.\n",
    "    3. Control de sobreajuste\n",
    "4. Resultados del entrenamiento.\n",
    "\n",
    "Una vez realizados estos 4 pasos, se procederá a la **evaluación** de cada uno de los modelos. De esta forma, podremos hacer la evaluación de los 3 a la vez, viendo rápidamente cuál se ha ajustado mejor a nuestro conjunto de datos. \n",
    "\n",
    "Para cada uno de los 3 modelos se dará una breve explicación para elegir entre GridSearchCV y RandomizedSearchCV. Se tratan de métodos que usan validación cruzada y exploran los hiperparámetros del modelo, por lo que se podrían hacer en pocas líneas de código los dos primeros pasos del punto número 2 en \"pasos a seguir\", definidos anteriormente.\n",
    "\n"
   ]
  },
  {
   "cell_type": "markdown",
   "metadata": {},
   "source": [
    "### Regresión lineal\n"
   ]
  },
  {
   "cell_type": "code",
   "execution_count": 4,
   "metadata": {},
   "outputs": [
    {
     "name": "stdout",
     "output_type": "stream",
     "text": [
      "Error Cuadrático Medio: 4093.3050651238923\n",
      "Error Absoluto Medio: 51.74977617337229\n",
      "R²: 0.9389799615223673\n"
     ]
    }
   ],
   "source": [
    "# Crear el modelo de regresión lineal\n",
    "modelo_regresor_lineal = LinearRegression()\n",
    "\n",
    "# Entrenar el modelo\n",
    "modelo_regresor_lineal.fit(X_train, y_train)\n",
    "\n",
    "# Hacer predicciones en el conjunto de prueba\n",
    "y_pred = modelo_regresor_lineal.predict(X_test)\n",
    "\n",
    "ecm = mean_squared_error(y_test, y_pred)\n",
    "eam = mean_absolute_error(y_test, y_pred)\n",
    "r2_reg_lineal = r2_score(y_test, y_pred)\n",
    "\n",
    "\n",
    "print(f\"Error Cuadrático Medio: {ecm}\")\n",
    "print(f\"Error Absoluto Medio: {eam}\")\n",
    "print(f\"R²: {r2_reg_lineal}\")"
   ]
  },
  {
   "cell_type": "markdown",
   "metadata": {},
   "source": [
    "#### Validación cruzada para la regresión lineal"
   ]
  },
  {
   "cell_type": "code",
   "execution_count": 5,
   "metadata": {},
   "outputs": [
    {
     "name": "stdout",
     "output_type": "stream",
     "text": [
      "Puntuacion del R2: 0.9432094031599286\n",
      "El modelo ha mejorado su precisión en 0.0042294416375613375\n"
     ]
    }
   ],
   "source": [
    "# Se realiza la validación cruzada\n",
    "scores = cross_val_score(modelo_regresor_lineal, X, y, cv= 5, scoring='r2')\n",
    "# Se imprimen los resultados de r^2 para ver si han mejorado\n",
    "\n",
    "r2_reg_lineal_cruzado = scores.mean()\n",
    "print(f\"Puntuacion del R2: {r2_reg_lineal_cruzado}\")\n",
    "\n",
    "# Hacemos la diferencia entre ambos r2 para encontrar la mejoría del modelo\n",
    "\n",
    "print(f\"El modelo ha mejorado su precisión en {r2_reg_lineal_cruzado - r2_reg_lineal}\")\n"
   ]
  },
  {
   "cell_type": "markdown",
   "metadata": {},
   "source": [
    "Se puede observar que, al realizar validación cruzada, el modelo mejora en un  0.004 en r cuadrado.\n",
    "\n",
    "Aunque se trate de una mejoría pequeña, el modelo ha mejorado su capacidad para explicar la variablilidad de los datos. La validación cruzada ayuda a reducir el riesgo de sobreajuste al evaluar el modelo en varios subconjuntos de los datos, brindando un estimado más estable y confiable del rendimiento real del modelo"
   ]
  },
  {
   "cell_type": "markdown",
   "metadata": {},
   "source": [
    "### Máquinas de vectores de soporte regresores (SVR)\n",
    "\n",
    "Se trata de una extensión de las support vector machines (SVM), utilizadas en principio para problemas de clasificación pero ampliadas a problemas de regresión gracias a las SVR."
   ]
  },
  {
   "cell_type": "code",
   "execution_count": 6,
   "metadata": {},
   "outputs": [
    {
     "name": "stdout",
     "output_type": "stream",
     "text": [
      "Error Cuadrático Medio: 67161.34825693294\n",
      "Error Absoluto Medio: 205.81710093568785\n",
      "R²: -0.0011929210371952603\n"
     ]
    }
   ],
   "source": [
    "# Creación de instancia del modelo SVR, ajustando al parámetro rbf\n",
    "\n",
    "modelo_svr = SVR(kernel = 'rbf') \n",
    "\n",
    "# Entrenar el modelo\n",
    "modelo_svr.fit(X_train, y_train)\n",
    "\n",
    "# Hacer las predicciones \n",
    "y_pred = modelo_svr.predict(X_test)\n",
    "# Cálculo de las métricas de evaluación\n",
    "\n",
    "ecm = mean_squared_error(y_test, y_pred)\n",
    "eam = mean_absolute_error(y_test, y_pred)\n",
    "\n",
    "r2_svr = r2_score(y_test, y_pred)\n",
    "# Mostrar las métricas de evaluación\n",
    "print(f\"Error Cuadrático Medio: {ecm}\")\n",
    "print(f\"Error Absoluto Medio: {eam}\")\n",
    "print(f\"R²: {r2_svr}\")\n"
   ]
  },
  {
   "cell_type": "markdown",
   "metadata": {},
   "source": [
    "#### Conclusiones: usar GridSearchCV o RandomizedSearchCV\n",
    "\n",
    "El r2 negativo significa que el modelo no está funcionando como debería, probablement epor no estar ajustando el hiperparámetro correcto.\n",
    "\n",
    "Por tanto, usaremos GridSearchCV o RandomizedSeacrhCV, que son capaces de encontrar la mejor elección de hiperparámetros.\n",
    "\n",
    "En este caso, RandomizedSearch no será tan costoso computacionalmente, por lo que será el que se use.\n"
   ]
  },
  {
   "cell_type": "code",
   "execution_count": null,
   "metadata": {},
   "outputs": [
    {
     "name": "stdout",
     "output_type": "stream",
     "text": [
      "Mejores hiperparámetros: {'C': 73.2993941811405, 'gamma': 'scale', 'kernel': 'linear'}\n",
      "Error Cuadrático Medio: 4114.203245320719\n",
      "Error Absoluto Medio: 51.64096987318156\n",
      "R²: 0.9386684265306102\n",
      "El modelo ha mejorado en 0.9398613475678055\n"
     ]
    }
   ],
   "source": [
    "# Definir el modelo SVR\n",
    "modelo_svr_cruzado = SVR()\n",
    "\n",
    "# Definir la cuadrícula de hiperparámetros\n",
    "param_dist = {\n",
    "    'kernel': ['linear', 'poly', 'rbf', 'sigmoid'],\n",
    "    'C': uniform(0.1, 100),  # Distribución uniforme entre 0.1 y 100\n",
    "    'gamma': ['scale', 'auto']\n",
    "}\n",
    "# Configurar RandomizedSearchCV\n",
    "random_search = RandomizedSearchCV(modelo_svr_cruzado, \n",
    "                                   param_distributions=param_dist, \n",
    "                                   n_iter=6, \n",
    "                                   cv=5, \n",
    "                                   scoring='neg_mean_squared_error', \n",
    "                                   n_jobs=-1, \n",
    "                                   random_state=42)\n",
    "# Entrenar el modelo con GridSearchCV\n",
    "random_search.fit(X_train, y_train)\n",
    "\n",
    "# Obtener el mejor modelo\n",
    "mejor_modelo_svr = random_search.best_estimator_\n",
    "\n",
    "# Hacer predicciones en el conjunto de prueba con el mejor modelo\n",
    "y_pred = mejor_modelo_svr.predict(X_test)\n",
    "\n",
    "# Calcular las métricas de evaluación\n",
    "ecm = mean_squared_error(y_test, y_pred)\n",
    "eam = mean_absolute_error(y_test, y_pred)\n",
    "r2_svr_cruzado = r2_score(y_test, y_pred)\n",
    "\n",
    "# Mostrar las métricas de evaluación\n",
    "print(f\"Mejores hiperparámetros: {random_search.best_params_}\")\n",
    "print(f\"Error Cuadrático Medio: {ecm}\")\n",
    "print(f\"Error Absoluto Medio: {eam}\")\n",
    "print(f\"R²: {r2_svr_cruzado}\")\n",
    "\n",
    "print(f\"El modelo ha mejorado en {r2_svr_cruzado - r2_svr}\")"
   ]
  },
  {
   "cell_type": "markdown",
   "metadata": {},
   "source": [
    "### Eventos destacables de la aplicación de validación cruzada\n",
    "\n",
    "Pese a que RandomizedSearchCV sea un modelo computacionalmente menos costoso que GridSearchCV, sigue teniendo que hacer un número bastante alto de combinaciones de hiperparámetros, con unas iteraciones que se definen en n_iter.\n",
    "\n",
    "Pese a tener una complejidad computacional mucho menor que GridSearch, sigue dependiendo gravemente del número de pliegues para validación cruzada y el número de iteraciones.\n",
    "\n",
    "A base de prueba y error, he detectado que a partir de las 5 iteraciones con 5 capas el R cuadrado no aumenta su valor, aumentando únicamente y de forma muy drástica el tiempo de ejecución. \n",
    "\n",
    "SVR es un modelo con una complejidad computacional temporal cuadrática (O(N^2)).\n",
    "La complejidad de randomizedsearch es, aproximadamente: \n",
    "\n",
    "$O(\\text{n\\_iter} \\times \\text{cv} \\times C_{\\text{modelo}})$\n",
    "\n",
    "Siendo C(modelo) la complejidad del modelo a probar. Por tanto, con tan solo cinco iteraciones el modelo presenta una complejidad computacional altísima.\n",
    "\n",
    "**Aunque no es competencia de la asignatura como tal, la complejidad computacional puede ser un punto decisivo a la hora de elegir el modelo a usar**.\n",
    "\n",
    "\n"
   ]
  },
  {
   "cell_type": "markdown",
   "metadata": {},
   "source": [
    "### Creación de función de comparación\n",
    "\n",
    "Para que sea más fácil la comparacion entre modelos en base a su r2, se va a implementar una función que vaya recibiendo como argumentos un número variable de r2, usando los xargs de Python.\n"
   ]
  },
  {
   "cell_type": "code",
   "execution_count": 8,
   "metadata": {},
   "outputs": [
    {
     "name": "stdout",
     "output_type": "stream",
     "text": [
      "El modelo con el mayor R^2 es el Modelo 1 con un valor de 0.9432.\n",
      "La diferencia con los otros modelos es: ['0.0045']\n"
     ]
    }
   ],
   "source": [
    "def comparar_r2(*r2_values):\n",
    "    \"\"\"\n",
    "    Compara múltiples valores de R^2 para determinar cuál es el mayor y \n",
    "    calcula las diferencias con respecto a los demás.\n",
    "\n",
    "    Parámetros:\n",
    "    - *r2_values: Valores de R^2 a comparar. \n",
    "    Se pueden proporcionar múltiples valores gracias a usar xargs.\n",
    "\n",
    "    Retorno:\n",
    "    - Ninguno (función de comparación).\n",
    "    Con llamada a función:\n",
    "        Índice del mejor modelo.\n",
    "        Diferencia del valor de R^2 frente a los siguientes.\n",
    "    \"\"\"\n",
    "    # Encontrar el R^2 máximo y su índice\n",
    "    mejor_r2 = max(r2_values)\n",
    "    mejor_modelo_index = r2_values.index(mejor_r2) + 1  \n",
    "\n",
    "    # Calcular las diferencias con respecto al mejor R^2\n",
    "    diferencias = [mejor_r2 - r2 for r2 in r2_values if r2 != mejor_r2]\n",
    "\n",
    "    # Mostrar resultados\n",
    "    print(f\"El modelo con el mayor R^2 es el Modelo {mejor_modelo_index} con un valor de {mejor_r2:.4f}.\")\n",
    "    if diferencias:\n",
    "        print(f\"La diferencia con los otros modelos es: {[f'{d:.4f}' for d in diferencias]}\")\n",
    "\n",
    "# Comparación entre el modelo de regresión lineal y SVR\n",
    "comparar_r2(r2_reg_lineal_cruzado, r2_svr_cruzado)  "
   ]
  },
  {
   "cell_type": "markdown",
   "metadata": {},
   "source": [
    "#### Resultados de la prueba\n",
    "De todas formas, al aplicar validación cruzada, se han solventado exitosamnete los problemas del SVR, pasando de un r cuadrado negativo a uno muy cercano al del modelo anterior, con tan solo 0.0014 menos.\n",
    "\n",
    "Se trata de un valor muy positivo si se parte del valor inicial del SVR. No obstante, presenta dos grandes desventajas frente al modelo de regresión lineal:\n",
    "1. **Valor de r2 menor**: pese a ser poca la diferencia, el modelo de regresión lineal sigue siendo menor.\n",
    "\n",
    "2. **Costo computacional muy elevado**: se trata de un modelo con una complejidad computacional mucho más alta. No solo en el propio modelo en si (O(p) frente a O(n^2)), sino también por el costo añadido de usar RandomizedSearchCV, que vuelve el tiempo de ejecución muy elevado. \n",
    "\n",
    "Por tanto, de momento, el mejor modelo sigue siendo el de regresión lineal"
   ]
  },
  {
   "cell_type": "markdown",
   "metadata": {},
   "source": [
    "### Random forest\n",
    "\n",
    "Se trata de un algoritmo que se basa en la idea de construir un conjunto de árboles de decisión y combinar sus resultados para mejorar la precisión y controlar el sobreajuste."
   ]
  },
  {
   "cell_type": "code",
   "execution_count": 9,
   "metadata": {},
   "outputs": [
    {
     "name": "stdout",
     "output_type": "stream",
     "text": [
      "Error Cuadrático Medio: 4118.92731889401\n",
      "Error Absoluto Medio: 52.085806451612896\n",
      "R²: 0.9385980034503298\n"
     ]
    }
   ],
   "source": [
    "from sklearn.ensemble import RandomForestRegressor\n",
    "# Crear el modelo RandomForestRegressor\n",
    "modelo_rf = RandomForestRegressor(n_estimators=100, random_state=42)\n",
    "\n",
    "# Entrenar el modelo\n",
    "modelo_rf.fit(X_train, y_train)\n",
    "\n",
    "# Hacer predicciones en el conjunto de prueba\n",
    "y_pred = modelo_rf.predict(X_test)\n",
    "\n",
    "# Calcular las métricas de evaluación\n",
    "ecm = mean_squared_error(y_test, y_pred)\n",
    "eam = mean_absolute_error(y_test, y_pred)\n",
    "r2_forest = r2_score(y_test, y_pred)\n",
    "\n",
    "# Mostrar las métricas de evaluación\n",
    "print(f\"Error Cuadrático Medio: {ecm}\")\n",
    "print(f\"Error Absoluto Medio: {eam}\")\n",
    "print(f\"R²: {r2_forest}\")"
   ]
  },
  {
   "cell_type": "markdown",
   "metadata": {},
   "source": [
    "### Validación cruzada para RandomForest\n",
    "\n",
    "Volvemos a usar la función cross_val_score.\n",
    "Posteriormente, se usará la función **comparar_r2()** para ver finalmente las diferencias entre los 3 modelos"
   ]
  },
  {
   "cell_type": "code",
   "execution_count": 10,
   "metadata": {},
   "outputs": [
    {
     "name": "stdout",
     "output_type": "stream",
     "text": [
      "Puntuación del R² en validación cruzada: 0.9430592915911001\n",
      "El modelo con el mayor R^2 es el Modelo 1 con un valor de 0.9432.\n",
      "La diferencia con los otros modelos es: ['0.0045', '0.0002']\n"
     ]
    }
   ],
   "source": [
    "# Crear el modelo RandomForestRegressor\n",
    "modelo_rf = RandomForestRegressor(n_estimators=100, random_state=42)\n",
    "\n",
    "# Realizar la validación cruzada\n",
    "scores = cross_val_score(modelo_rf, X, y, cv=5, scoring='r2')\n",
    "\n",
    "# Calcular la puntuación promedio de R² en la validación cruzada\n",
    "r2_forest_cruzado = scores.mean()\n",
    "print(f\"Puntuación del R² en validación cruzada: {r2_forest_cruzado}\")\n",
    "\n",
    "comparar_r2(r2_reg_lineal_cruzado, r2_svr_cruzado, r2_forest_cruzado)"
   ]
  },
  {
   "cell_type": "markdown",
   "metadata": {},
   "source": [
    "## Conclusiones\n",
    "\n",
    "Una vez realizados los 3 modelos, se pueden extraer las siguientes conclusiones: \n",
    "\n",
    "#### Mejor métrica de evaluación: R^2\n",
    "Pese a usar también el error cuadrático medio y absoluto, la métrica usada para comparar los 3 modelos ha sido finalmente el **$R^2$**. Existen 3 principales razones para usar esta métrica:\n",
    "\n",
    "1. **Interpretación**: $R^2$ proporciona una medida fácil de interpretar, puesto que cuanto más alto sea, mejor explica el modelo los datos. Esto facilita la comparación entre modelos, ya que todos están normalizados en el mismo rango de 0 a 1. \n",
    "\n",
    "2. **Escala y simplicidad**: Se trata de una interpretación mucho más sencilla de ver a simple vista si no se tiene mucho conocimiento de la medida de las unidades que se está usando en el conjunto de datos. En el error cuadrático medio y absoluto, se deben conocer las unidades de medidas (en este caso de calorías) y evaluar este resultado sabiendo la escala del problema y qué tan asumible es ese error. \n",
    "\n",
    "Es decir, se tiene que saber el rango de los datos, por ejemplo entre 0 y 1000, y luego evaluar cuán aceptable es el error. Sin embargo, $R^2$ no posee unidades, por lo que es mucho más fácil de interpretar a simple vista si el modelo ha mejorado o empeorado.\n",
    "\n",
    "Un valor cercano a 0 sugiere que no funciona bien, mientras que cercano a 1 captura bien la relación entre las variables.\n",
    "\n",
    "3. **Contexto de mejora**: en el caso de tener $R^2$ negativos, rápidamente se sabe que el modelo se desempeña peor que simplemente prediciendo la media de la variable de respuesta. \n",
    "\n",
    "Finalmente, el error cuadrático medio y absoluto son dos métricas más difíciles de interpretar a la hora de decidir qué modelo es mejor. Si un modelo tiene un ECM menor, pero otro un $R^2$ más alto, el $R^2$ puede proporcional una mejor visión del desempeño general del modelo.\n",
    "\n",
    "\n",
    "#### Mejor modelo: Regresión lineal.\n",
    "\n",
    "El modelo de regresión lineal ha sido finalmente el que mejor desempeño ha tenido, principalmente por tres razones.\n",
    "\n",
    "- Es el modelo con una menor **complejidad computacional**. Es un modelo que tarda mucho menos en ejecutarse que SVR y RandomForest, con una diferencia aproximada de 3 segundos, valor que sería mucho más alto si se hiciese un mayor número de iteraciones. Se trata de un punto a tener en cuenta a la hora de desplegar un modelo, sobretodo si el conjunto de datos va a ser más grande.\n",
    "\n",
    "- **Modelo más simple**: se trata del modelo con la idea más simple. A la hora de explicar el modelo a otra persona que no tenga conocimientos, explicar la regresión lineal es mucho más facil que SVR o RandomForest, puesto que sólo se debe explicar que predice valores de una variable respecto a otras que dependen de ella. \n",
    "\n",
    "- **Mejor $R^2$**: es el modelo con un mejor $R^2$, aunque las diferencias sean muy pequeñas. Además, si se compara el desempeño de los modelos sin aplicar validación cruzada, se trata de una opción mucho más robusta que SVR, dado que este tenía en principio un $R^2$ negativo.\n",
    "\n",
    "\n"
   ]
  },
  {
   "cell_type": "markdown",
   "metadata": {},
   "source": [
    "## Siguientes pasos\n",
    "\n",
    "Los pasos siguientes serían los relacionados al despliegue del modelo. Para ello, se debe realizar un archivo de pesos del modelo, que permitan que no se deba ejecutar todo el código todas las veces que se quiera usar el modelo.\n",
    "\n",
    "Finalmente, se podría considerar volver al EDA para probar la eliminación o adición de columnas en el conjunto de datos, con el objetivo de intentar maximizar el valor de R^2.\n",
    "\n",
    "No obstante, el valor de por sí es elevado, por lo que debe valorar la opción de tener un modelo con unas variables intuitivamente menos representativas pero con un ligero mejor desempeño, o por el contrario quedarse con un modelo con un valor de precisión acertado, algo menor, pero con unas variables mucho más intuitivas a la hora de explicar en base a qué variables se ha entrenado el modelo.\n",
    "\n",
    "La decisión queda a gusto del usuario final. "
   ]
  },
  {
   "cell_type": "markdown",
   "metadata": {},
   "source": [
    "#### Persistencia del modelo\n",
    "Se usará **joblib**, una opción recomendada para guardar modelos de Scikit-learn, que además es más eficiente que otras opciones como pickle en términos de espacio y velocidad en objetos grandes, como modelos de aprendizaje automático.\n",
    "\n",
    "Además, se trata de una opción más simple a la hora de implementarlo en Python. \n",
    "\n",
    "También se crearán **4 nuevos csv**, cada uno perteneciente a las 4 variables del conjunto de datos de entrenamiento y test, para tener un registro de fiable de con qué datos se ha entrenado y evaluado el modelo. Se trata de un paso útil que evita que haya fallos posteriormente si los datos cambian."
   ]
  },
  {
   "cell_type": "code",
   "execution_count": null,
   "metadata": {},
   "outputs": [
    {
     "name": "stdout",
     "output_type": "stream",
     "text": [
      "Puntuacion del R2: 0.9432094031599286\n"
     ]
    }
   ],
   "source": [
    "# Crear el modelo de regresión lineal\n",
    "modelo_regresor_lineal = LinearRegression()\n",
    "\n",
    "# Realizar la validación cruzada\n",
    "scores = cross_val_score(modelo_regresor_lineal, X, y, cv=5, scoring='r2')\n",
    "r2_reg_lineal_cruzado = scores.mean()\n",
    "print(f\"Puntuacion del R2: {r2_reg_lineal_cruzado}\")\n",
    "\n",
    "# Entrenar el modelo con todos los datos\n",
    "modelo_regresor_lineal.fit(X, y)\n",
    "\n",
    "# Guardar el modelo entrenado\n",
    "joblib.dump(modelo_regresor_lineal, 'modelo_regresion_lineal.pkl')\n",
    "\n",
    "# Guardar los conjuntos de datos en archivos CSV\n",
    "X_train.to_csv('X_train.csv', index=False)\n",
    "X_test.to_csv('X_test.csv', index=False)\n",
    "y_train.to_csv('y_train.csv', index=False)\n",
    "y_test.to_csv('y_test.csv', index=False)\n",
    "\n"
   ]
  },
  {
   "cell_type": "markdown",
   "metadata": {},
   "source": [
    "#### Carga del modelo para comprobar que ha sido exportado correctamente\n",
    "\n",
    "Para comprobar que funciona correctamente, deberíamos poseer otro conjunto de datos.\n",
    "\n",
    "Esto se debe a que nuestro conjunto de datos actual es con el que se acaba de entrenar el modelo. Por tanto, es probable que al cargarlo de nuevo sobre este, el $R^2$ aumente debido a que ya ha visto anteriormente todos estos datos. \n",
    "\n",
    "Por tanto, se recomienda poseer otro dataset del estilo o nuevos datos para comprobar que el modelo está funcionando correctamente. No obstante, para comprobar que el archivo se ha creado exitosamente y que funciona, se trata de una opción rápida y útil para su propósito."
   ]
  },
  {
   "cell_type": "code",
   "execution_count": 12,
   "metadata": {},
   "outputs": [
    {
     "name": "stdout",
     "output_type": "stream",
     "text": [
      "R² del modelo cargado: 0.9440224555762704\n"
     ]
    }
   ],
   "source": [
    "# Cargar el modelo guardado\n",
    "modelo_cargado = joblib.load('modelo_regresion_lineal.pkl')\n",
    "# Verificar que el modelo cargado funciona correctamente\n",
    "y_pred_cargado = modelo_cargado.predict(X)\n",
    "\n",
    "r2_cargado = modelo_cargado.score(X, y)\n",
    "\n",
    "print(f\"R² del modelo cargado: {r2_cargado}\")"
   ]
  },
  {
   "cell_type": "markdown",
   "metadata": {},
   "source": [
    "## Comprobaciones a mayores\n",
    "\n",
    "Debido a que el error cuadrático medio de todos los modelo tiene valores muy altos, es más que probable que algunas de las predicciones que hacen los modelos tengan unos valores muy alejados de la etiqueta objetivo que deberían tener.\n",
    "\n",
    "Por tanto, es recomendable **visualizar estas predicciones** y una vez visto el origen de esta métrica, tomar decisiones sobre qué hacer con el modelo. Las dos principales opciones son:\n",
    "\n",
    "1. **Eliminar las predicciones atípicas**: una vez visualizadas estas predicciones, proceder a su eliminación y evaluar de nuevo el modelo. Si el error cuadrático medio disminuye, mientras se mantienen el $R^2$ y el error absoluto iguales o aumentando, será recomendable eliminar dichas predicciones.\n",
    "\n",
    "\n",
    "2. **Permanecer con el modelo actual**: una vez visualizados estas predicciones atípicas, se mantiene el mismo modelo sin eliminarlas debido a que no se alcanza una mejora significativa en ninguna de las métricas del modelo.\n",
    "\n",
    "Dichas comprobaciones se harán primero en el modelo elegido, es decir, en el regresor lineal. Si se da el primer caso, se procederá también a comprobar los otros dos modelos. Si por el contrario no mejora, se mantendrá solo esta evaluación en el regresor lineal.\n",
    "\n",
    "Esto se debe principalmente a que tenemos otras dos métricas con unos valores bastante altos y positivos, por lo que, una vez comprendido el valor del error cuadrático medio y experimentado para disminuirlo, tampoco es necesario proceder al cambio del modelo al tener otras dos métricas positivas y más robustas a los errores puntuales de algunas de las predicciones.\n",
    "\n",
    "A modo de aclaración, una predicción atípica es aquella donde la diferencia entre el valor real y el valor predicho (residuo) es mucho mayor que la mayoría de las diferencias observadas\n"
   ]
  },
  {
   "cell_type": "markdown",
   "metadata": {},
   "source": [
    "#### Visualización de las predicciones atípicas.\n"
   ]
  },
  {
   "cell_type": "code",
   "execution_count": 13,
   "metadata": {},
   "outputs": [
    {
     "data": {
      "image/png": "[encoded data removed]",
      "text/plain": [
       "<Figure size 1000x600 with 1 Axes>"
      ]
     },
     "metadata": {},
     "output_type": "display_data"
    }
   ],
   "source": [
    "# Cargar los datos de prueba\n",
    "X_test = pd.read_csv('X_test.csv')\n",
    "y_test = pd.read_csv('y_test.csv').values.flatten()\n",
    "\n",
    "# Realizar predicciones con el modelo cargado\n",
    "y_pred = modelo_cargado.predict(X_test)\n",
    "\n",
    "# Visualizar las predicciones en un gráfico\n",
    "plt.figure(figsize=(10, 6))\n",
    "plt.scatter(range(len(y_test)), y_test, color='blue', label='Valores Reales')\n",
    "plt.scatter(range(len(y_pred)), y_pred, color='red', label='Predicciones')\n",
    "plt.title('Predicciones vs Valores Reales')\n",
    "plt.xlabel('Índice')\n",
    "plt.ylabel('Calories_Burned')\n",
    "plt.legend()\n",
    "plt.show()\n",
    "\n",
    "\n",
    "\n"
   ]
  },
  {
   "cell_type": "markdown",
   "metadata": {},
   "source": [
    "#### Identificación de predicciones atípicas"
   ]
  },
  {
   "cell_type": "code",
   "execution_count": null,
   "metadata": {},
   "outputs": [],
   "source": [
    "residuals = np.abs(y_test - y_pred)\n",
    "threshold = np.mean(residuals) + 2 * np.std(residuals)\n",
    "outliers = residuals > threshold"
   ]
  },
  {
   "cell_type": "markdown",
   "metadata": {},
   "source": [
    "#### Visualizar las predicciones atípicas en un gráfico"
   ]
  },
  {
   "cell_type": "code",
   "execution_count": 15,
   "metadata": {},
   "outputs": [
    {
     "data": {
      "image/png": "[encoded data removed]",
      "text/plain": [
       "<Figure size 1000x600 with 1 Axes>"
      ]
     },
     "metadata": {},
     "output_type": "display_data"
    }
   ],
   "source": [
    "plt.figure(figsize=(10, 6))\n",
    "plt.scatter(range(len(y_test)), y_test, color='blue', label='Valores Reales')\n",
    "plt.scatter(range(len(y_pred)), y_pred, color='red', label='Predicciones')\n",
    "plt.scatter(np.where(outliers)[0], y_pred[outliers], color='green', label='Predicciones Atípicas')\n",
    "plt.title('Predicciones Atípicas')\n",
    "plt.xlabel('Índice')\n",
    "plt.ylabel('Calories_Burned')\n",
    "plt.legend()\n",
    "plt.show()"
   ]
  },
  {
   "cell_type": "markdown",
   "metadata": {},
   "source": [
    "A simple vista, se puede destacar que no hay un número elevado de predicciones atípicas en comparación con el número de predicciones totales"
   ]
  },
  {
   "cell_type": "markdown",
   "metadata": {},
   "source": [
    "#### Mostrar el número de predicciones atípicas y sus valores reales frente a los predichos"
   ]
  },
  {
   "cell_type": "code",
   "execution_count": 24,
   "metadata": {},
   "outputs": [
    {
     "name": "stdout",
     "output_type": "stream",
     "text": [
      "Número de predicciones atípicas: 11\n",
      "Valores reales vs Predicciones atípicas:\n",
      "Real: 394.0,  Predicho: 520.6340967229575\n",
      "\n",
      "Real: 929.0,  Predicho: 1071.8402584917785\n",
      "\n",
      "Real: 1198.0,  Predicho: 1067.4308062871455\n",
      "\n",
      "Real: 999.0,  Predicho: 1139.4672603109143\n",
      "\n",
      "Real: 1598.0,  Predicho: 1415.099379063824\n",
      "\n",
      "Real: 1005.0,  Predicho: 1167.5230094782496\n",
      "\n",
      "Real: 1016.0,  Predicho: 1176.109369239793\n",
      "\n",
      "Real: 1257.0,  Predicho: 1098.7675910890953\n",
      "\n",
      "Real: 1143.0,  Predicho: 997.3764706563824\n",
      "\n",
      "Real: 940.0,  Predicho: 1102.8257393023082\n",
      "\n",
      "Real: 996.0,  Predicho: 1137.0608395246295\n",
      "\n",
      "Media de la diferencia entre el valor real y el valor predicho en las predicciones atípicas: 150.3442114521985\n"
     ]
    }
   ],
   "source": [
    "print(f\"Número de predicciones atípicas: {np.sum(outliers)}\")\n",
    "print(\"Valores reales vs Predicciones atípicas:\")\n",
    "for real, pred in zip(y_test[outliers], y_pred[outliers]):\n",
    "    print(f\"Real: {real},  Predicho: {pred}\\n\")"
   ]
  },
  {
   "cell_type": "code",
   "execution_count": 33,
   "metadata": {},
   "outputs": [
    {
     "name": "stdout",
     "output_type": "stream",
     "text": [
      "\n",
      "Media de diferencia entre valor real y valor predicho en predicciones atípicas: \n",
      "\n",
      "150.3442114521985\n",
      "\n",
      "\n",
      "Predicción atípica con la mayor diferencia:\n",
      "182.90062093617598\n"
     ]
    }
   ],
   "source": [
    "# Calcular la media de la diferencia entre el valor real y el valor predicho en las predicciones atípicas\n",
    "mean_difference_outliers = np.mean(residuals[outliers])\n",
    "\n",
    "mensaje_diferencia = f\"\"\"\n",
    "Media de diferencia entre valor real y valor predicho en predicciones atípicas: \\n\n",
    "{mean_difference_outliers}\n",
    "\n",
    "\"\"\"\n",
    "print(mensaje_diferencia)"
   ]
  },
  {
   "cell_type": "code",
   "execution_count": 34,
   "metadata": {},
   "outputs": [
    {
     "name": "stdout",
     "output_type": "stream",
     "text": [
      "Predicción atípica con la mayor diferencia:\n",
      "182.90062093617598\n"
     ]
    }
   ],
   "source": [
    "# Encontrar la predicción atípica con la mayor diferencia entre el valor real y el valor predicho\n",
    "max_difference_index = np.argmax(residuals[outliers])\n",
    "max_difference_real = y_test[outliers][max_difference_index]\n",
    "max_difference_pred = y_pred[outliers][max_difference_index]\n",
    "\n",
    "print(f\"Predicción atípica con la mayor diferencia:\")\n",
    "print(f\"{max_difference_real - max_difference_pred}\")"
   ]
  },
  {
   "cell_type": "markdown",
   "metadata": {},
   "source": [
    "Como se puede observar, el modelo tan solo tiene 11 predicciones atípicas, lo que corrobora lo comentado del gráfico. Además, estas predicciones, aun teniendo un error considerable conociendo el rango y valor de las calorías quemadas en un entrenamiento, tampoco son excesivamente elevadas como se podría pensar en un primer momento. \n",
    "\n",
    "De hecho, la media entre el valor real y el valor predicho en estas predicciones es de 150 calorías, número elevado pero no desorbitado. De hecho, la peor predicción tiene una diferencia entre el valor real y el valor predicho de 182.9 calorías.\n",
    "\n",
    "En este momento, si hubiese un mayor número de predicciones atípicas o las demás métricas del modelo presentasen datos no tan positivos, se podría entrar a considerar si es aceptable que existan predicciones con este error, teniendo en cuenta el contexto del conjunto de datos y del problema en un entorno real."
   ]
  },
  {
   "cell_type": "markdown",
   "metadata": {},
   "source": [
    "#### Re-entrenar el regresor lineal sin predicciones atípicas"
   ]
  },
  {
   "cell_type": "code",
   "execution_count": 21,
   "metadata": {},
   "outputs": [
    {
     "name": "stdout",
     "output_type": "stream",
     "text": [
      "Error cuadrático medio después de eliminar predicciones atípicas: 4152.606453865106\n"
     ]
    }
   ],
   "source": [
    "# Cargar los datos de entrenamiento\n",
    "X_train = pd.read_csv('X_train.csv')\n",
    "y_train = pd.read_csv('y_train.csv').values.flatten()\n",
    "\n",
    "# Entrenar el modelo de regresión lineal con los datos originales\n",
    "modelo_regresor_lineal = LinearRegression()\n",
    "modelo_regresor_lineal.fit(X_train, y_train)\n",
    "\n",
    "# Realizar predicciones con los datos de entrenamiento\n",
    "y_train_pred = modelo_regresor_lineal.predict(X_train)\n",
    "\n",
    "# Identificar predicciones atípicas en los datos de entrenamiento\n",
    "residuals_train = np.abs(y_train - y_train_pred)\n",
    "threshold_train = np.mean(residuals_train) + 2 * np.std(residuals_train)\n",
    "outliers_train = residuals_train > threshold_train\n",
    "\n",
    "\n",
    "# Eliminar las predicciones atípicas de los datos de entrenamiento\n",
    "X_train_cleaned = X_train[~outliers_train]\n",
    "y_train_cleaned = y_train[~outliers_train]\n",
    "\n",
    "# Volver a entrenar el modelo de regresión lineal con los datos limpios\n",
    "modelo_regresor_lineal_cleaned = LinearRegression()\n",
    "modelo_regresor_lineal_cleaned.fit(X_train_cleaned, y_train_cleaned)\n",
    "\n",
    "# Evaluar el modelo con los datos de prueba\n",
    "X_test = pd.read_csv('X_test.csv')\n",
    "y_test = pd.read_csv('y_test.csv').values.flatten()\n",
    "y_pred_cleaned = modelo_regresor_lineal_cleaned.predict(X_test)\n",
    "mse_cleaned = mean_squared_error(y_test, y_pred_cleaned)\n",
    "print(f\"Error cuadrático medio después de eliminar predicciones atípicas: {mse_cleaned}\")\n"
   ]
  },
  {
   "cell_type": "markdown",
   "metadata": {},
   "source": [
    "## Conclusiones"
   ]
  },
  {
   "cell_type": "markdown",
   "metadata": {},
   "source": [
    "Después de realizar el análisis de las predicciones atípicas, se pueden extraer las siguientes conclusiones:\n",
    "\n",
    "1. El modelo no tiene un número muy elevado de predicciones atípicas, contando únicamente con 11 predicciones con un error más alto. Dichas predicciones tienen una diferencia entre el valor real y predicho de 150 calorías, siendo la más elevada de 182.9. Es decir, **el modelo tiene pocas predicciones atípicas y con un error alto pero no desorbitado**.\n",
    "\n",
    "2. Tras el reentrenamiento del modelo después de la eliminación de las predicciones atípicas, no solo no mejora, si no que **el error cuadrático medio aumenta**, por lo que se **mantiene el modelo con el conjunto de entrenamiento y test anterior**.\n",
    "\n",
    "3. Dado que el modelo presenta unas métricas de error absoluto medio y de $R^2$ bastante positivas y tan solo hay 11 predicciones atípicas, se confirma, con un caso real, que **el error cuadrático medio** es una métrica muy condicionada a las predicciones atípicas. Por tanto, para el caso de este modelo y después de haber realizado las comprobaciones correspondientes, es probable que el error cuadrático medio **no sea la mejor métrica para evaluar el correcto rendimiento del modelo**. \n",
    "\n",
    "Por tanto, la conclusión final es que **se mantiene el regresor lineal elegido**, trashaber comprobado que el número de predicciones atípicas no es muy elevado y se tiene un $R^2$ alto y un error medio absoluto bastante bajo."
   ]
  }
 ],
 "metadata": {
  "kernelspec": {
   "display_name": "conda_env",
   "language": "python",
   "name": "python3"
  },
  "language_info": {
   "codemirror_mode": {
    "name": "ipython",
    "version": 3
   },
   "file_extension": ".py",
   "mimetype": "text/x-python",
   "name": "python",
   "nbconvert_exporter": "python",
   "pygments_lexer": "ipython3",
   "version": "3.12.3"
  }
 },
 "nbformat": 4,
 "nbformat_minor": 2
}
