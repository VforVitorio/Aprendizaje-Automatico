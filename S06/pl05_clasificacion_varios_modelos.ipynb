{
 "cells": [
  {
   "cell_type": "markdown",
   "metadata": {},
   "source": [
    "# PL05. Clasificación con Varios Modelos\n",
    "\n",
    "__Borja González Seoane. Aprendizaje Automático. Curso 2024-25__\n",
    "\n",
    "#### Práctica realizada por Víctor Vega Sobral\n",
    "\n",
    "En esta segunda parte de la PL05, se contrastarán diferentes modelos de clasificación para predecir, a partir del conjunto de datos Titanic, si un pasajero sobrevivió o no al hundimiento del barco. El conjunto de datos está disponible en el Campus Virtual de la asignatura (`titanic.csv`). Modelos a contrastar:\n",
    "\n",
    "1. Regresión logística implementada desde cero (_scratch_) en la primera parte de la PL05.\n",
    "2. Regresión logística de Scikit-Learn.\n",
    "3. SVM de Scikit-Learn.\n"
   ]
  },
  {
   "cell_type": "code",
   "execution_count": 282,
   "metadata": {},
   "outputs": [],
   "source": [
    "import numpy as np\n",
    "import pandas as pd\n",
    "from sklearn.model_selection import train_test_split"
   ]
  },
  {
   "cell_type": "code",
   "execution_count": 283,
   "metadata": {},
   "outputs": [],
   "source": [
    "import seaborn as sns"
   ]
  },
  {
   "cell_type": "code",
   "execution_count": 284,
   "metadata": {},
   "outputs": [],
   "source": [
    "TEST_SPLIT_SIZE = 0.3\n",
    "RANDOM_STATE = 37"
   ]
  },
  {
   "cell_type": "markdown",
   "metadata": {},
   "source": [
    "## Carga del conjunto de datos"
   ]
  },
  {
   "cell_type": "code",
   "execution_count": 285,
   "metadata": {},
   "outputs": [],
   "source": [
    "# Titanic\n",
    "data = pd.read_csv(\"titanic.csv\")"
   ]
  },
  {
   "cell_type": "code",
   "execution_count": 286,
   "metadata": {},
   "outputs": [
    {
     "data": {
      "text/html": [
       "<div>\n",
       "<style scoped>\n",
       "    .dataframe tbody tr th:only-of-type {\n",
       "        vertical-align: middle;\n",
       "    }\n",
       "\n",
       "    .dataframe tbody tr th {\n",
       "        vertical-align: top;\n",
       "    }\n",
       "\n",
       "    .dataframe thead th {\n",
       "        text-align: right;\n",
       "    }\n",
       "</style>\n",
       "<table border=\"1\" class=\"dataframe\">\n",
       "  <thead>\n",
       "    <tr style=\"text-align: right;\">\n",
       "      <th></th>\n",
       "      <th>PassengerId</th>\n",
       "      <th>Survived</th>\n",
       "      <th>Pclass</th>\n",
       "      <th>Name</th>\n",
       "      <th>Sex</th>\n",
       "      <th>Age</th>\n",
       "      <th>SibSp</th>\n",
       "      <th>Parch</th>\n",
       "      <th>Ticket</th>\n",
       "      <th>Fare</th>\n",
       "      <th>Cabin</th>\n",
       "      <th>Embarked</th>\n",
       "    </tr>\n",
       "  </thead>\n",
       "  <tbody>\n",
       "    <tr>\n",
       "      <th>0</th>\n",
       "      <td>1</td>\n",
       "      <td>0</td>\n",
       "      <td>3</td>\n",
       "      <td>Braund, Mr. Owen Harris</td>\n",
       "      <td>male</td>\n",
       "      <td>22.0</td>\n",
       "      <td>1</td>\n",
       "      <td>0</td>\n",
       "      <td>A/5 21171</td>\n",
       "      <td>7.2500</td>\n",
       "      <td>NaN</td>\n",
       "      <td>S</td>\n",
       "    </tr>\n",
       "    <tr>\n",
       "      <th>1</th>\n",
       "      <td>2</td>\n",
       "      <td>1</td>\n",
       "      <td>1</td>\n",
       "      <td>Cumings, Mrs. John Bradley (Florence Briggs Th...</td>\n",
       "      <td>female</td>\n",
       "      <td>38.0</td>\n",
       "      <td>1</td>\n",
       "      <td>0</td>\n",
       "      <td>PC 17599</td>\n",
       "      <td>71.2833</td>\n",
       "      <td>C85</td>\n",
       "      <td>C</td>\n",
       "    </tr>\n",
       "    <tr>\n",
       "      <th>2</th>\n",
       "      <td>3</td>\n",
       "      <td>1</td>\n",
       "      <td>3</td>\n",
       "      <td>Heikkinen, Miss. Laina</td>\n",
       "      <td>female</td>\n",
       "      <td>26.0</td>\n",
       "      <td>0</td>\n",
       "      <td>0</td>\n",
       "      <td>STON/O2. 3101282</td>\n",
       "      <td>7.9250</td>\n",
       "      <td>NaN</td>\n",
       "      <td>S</td>\n",
       "    </tr>\n",
       "    <tr>\n",
       "      <th>3</th>\n",
       "      <td>4</td>\n",
       "      <td>1</td>\n",
       "      <td>1</td>\n",
       "      <td>Futrelle, Mrs. Jacques Heath (Lily May Peel)</td>\n",
       "      <td>female</td>\n",
       "      <td>35.0</td>\n",
       "      <td>1</td>\n",
       "      <td>0</td>\n",
       "      <td>113803</td>\n",
       "      <td>53.1000</td>\n",
       "      <td>C123</td>\n",
       "      <td>S</td>\n",
       "    </tr>\n",
       "    <tr>\n",
       "      <th>4</th>\n",
       "      <td>5</td>\n",
       "      <td>0</td>\n",
       "      <td>3</td>\n",
       "      <td>Allen, Mr. William Henry</td>\n",
       "      <td>male</td>\n",
       "      <td>35.0</td>\n",
       "      <td>0</td>\n",
       "      <td>0</td>\n",
       "      <td>373450</td>\n",
       "      <td>8.0500</td>\n",
       "      <td>NaN</td>\n",
       "      <td>S</td>\n",
       "    </tr>\n",
       "  </tbody>\n",
       "</table>\n",
       "</div>"
      ],
      "text/plain": [
       "   PassengerId  Survived  Pclass  \\\n",
       "0            1         0       3   \n",
       "1            2         1       1   \n",
       "2            3         1       3   \n",
       "3            4         1       1   \n",
       "4            5         0       3   \n",
       "\n",
       "                                                Name     Sex   Age  SibSp  \\\n",
       "0                            Braund, Mr. Owen Harris    male  22.0      1   \n",
       "1  Cumings, Mrs. John Bradley (Florence Briggs Th...  female  38.0      1   \n",
       "2                             Heikkinen, Miss. Laina  female  26.0      0   \n",
       "3       Futrelle, Mrs. Jacques Heath (Lily May Peel)  female  35.0      1   \n",
       "4                           Allen, Mr. William Henry    male  35.0      0   \n",
       "\n",
       "   Parch            Ticket     Fare Cabin Embarked  \n",
       "0      0         A/5 21171   7.2500   NaN        S  \n",
       "1      0          PC 17599  71.2833   C85        C  \n",
       "2      0  STON/O2. 3101282   7.9250   NaN        S  \n",
       "3      0            113803  53.1000  C123        S  \n",
       "4      0            373450   8.0500   NaN        S  "
      ]
     },
     "metadata": {},
     "output_type": "display_data"
    }
   ],
   "source": [
    "display(data.head())"
   ]
  },
  {
   "cell_type": "code",
   "execution_count": 287,
   "metadata": {},
   "outputs": [
    {
     "data": {
      "text/plain": [
       "<Axes: xlabel='Survived', ylabel='count'>"
      ]
     },
     "metadata": {},
     "output_type": "display_data"
    },
    {
     "data": {
      "image/png": "[encoded data removed]",
      "text/plain": [
       "<Figure size 640x480 with 1 Axes>"
      ]
     },
     "metadata": {},
     "output_type": "display_data"
    }
   ],
   "source": [
    "display(sns.countplot(x=\"Survived\", data=data))"
   ]
  },
  {
   "cell_type": "code",
   "execution_count": 288,
   "metadata": {},
   "outputs": [],
   "source": [
    "# Elimina filas con nulos\n",
    "data.drop(\"Cabin\", axis=1, inplace=True)  # Muchos nulos en la columna\n",
    "data = data.dropna()"
   ]
  },
  {
   "cell_type": "markdown",
   "metadata": {},
   "source": [
    "### Usa variables _dummy_ para representar las clases"
   ]
  },
  {
   "cell_type": "code",
   "execution_count": 289,
   "metadata": {},
   "outputs": [
    {
     "data": {
      "text/html": [
       "<div>\n",
       "<style scoped>\n",
       "    .dataframe tbody tr th:only-of-type {\n",
       "        vertical-align: middle;\n",
       "    }\n",
       "\n",
       "    .dataframe tbody tr th {\n",
       "        vertical-align: top;\n",
       "    }\n",
       "\n",
       "    .dataframe thead th {\n",
       "        text-align: right;\n",
       "    }\n",
       "</style>\n",
       "<table border=\"1\" class=\"dataframe\">\n",
       "  <thead>\n",
       "    <tr style=\"text-align: right;\">\n",
       "      <th></th>\n",
       "      <th>female</th>\n",
       "      <th>male</th>\n",
       "    </tr>\n",
       "  </thead>\n",
       "  <tbody>\n",
       "    <tr>\n",
       "      <th>0</th>\n",
       "      <td>False</td>\n",
       "      <td>True</td>\n",
       "    </tr>\n",
       "    <tr>\n",
       "      <th>1</th>\n",
       "      <td>True</td>\n",
       "      <td>False</td>\n",
       "    </tr>\n",
       "    <tr>\n",
       "      <th>2</th>\n",
       "      <td>True</td>\n",
       "      <td>False</td>\n",
       "    </tr>\n",
       "    <tr>\n",
       "      <th>3</th>\n",
       "      <td>True</td>\n",
       "      <td>False</td>\n",
       "    </tr>\n",
       "    <tr>\n",
       "      <th>4</th>\n",
       "      <td>False</td>\n",
       "      <td>True</td>\n",
       "    </tr>\n",
       "    <tr>\n",
       "      <th>...</th>\n",
       "      <td>...</td>\n",
       "      <td>...</td>\n",
       "    </tr>\n",
       "    <tr>\n",
       "      <th>885</th>\n",
       "      <td>True</td>\n",
       "      <td>False</td>\n",
       "    </tr>\n",
       "    <tr>\n",
       "      <th>886</th>\n",
       "      <td>False</td>\n",
       "      <td>True</td>\n",
       "    </tr>\n",
       "    <tr>\n",
       "      <th>887</th>\n",
       "      <td>True</td>\n",
       "      <td>False</td>\n",
       "    </tr>\n",
       "    <tr>\n",
       "      <th>889</th>\n",
       "      <td>False</td>\n",
       "      <td>True</td>\n",
       "    </tr>\n",
       "    <tr>\n",
       "      <th>890</th>\n",
       "      <td>False</td>\n",
       "      <td>True</td>\n",
       "    </tr>\n",
       "  </tbody>\n",
       "</table>\n",
       "<p>712 rows × 2 columns</p>\n",
       "</div>"
      ],
      "text/plain": [
       "     female   male\n",
       "0     False   True\n",
       "1      True  False\n",
       "2      True  False\n",
       "3      True  False\n",
       "4     False   True\n",
       "..      ...    ...\n",
       "885    True  False\n",
       "886   False   True\n",
       "887    True  False\n",
       "889   False   True\n",
       "890   False   True\n",
       "\n",
       "[712 rows x 2 columns]"
      ]
     },
     "metadata": {},
     "output_type": "display_data"
    }
   ],
   "source": [
    "display(pd.get_dummies(data[\"Sex\"]))"
   ]
  },
  {
   "cell_type": "code",
   "execution_count": 290,
   "metadata": {},
   "outputs": [
    {
     "data": {
      "text/html": [
       "<div>\n",
       "<style scoped>\n",
       "    .dataframe tbody tr th:only-of-type {\n",
       "        vertical-align: middle;\n",
       "    }\n",
       "\n",
       "    .dataframe tbody tr th {\n",
       "        vertical-align: top;\n",
       "    }\n",
       "\n",
       "    .dataframe thead th {\n",
       "        text-align: right;\n",
       "    }\n",
       "</style>\n",
       "<table border=\"1\" class=\"dataframe\">\n",
       "  <thead>\n",
       "    <tr style=\"text-align: right;\">\n",
       "      <th></th>\n",
       "      <th>male</th>\n",
       "    </tr>\n",
       "  </thead>\n",
       "  <tbody>\n",
       "    <tr>\n",
       "      <th>0</th>\n",
       "      <td>True</td>\n",
       "    </tr>\n",
       "    <tr>\n",
       "      <th>1</th>\n",
       "      <td>False</td>\n",
       "    </tr>\n",
       "    <tr>\n",
       "      <th>2</th>\n",
       "      <td>False</td>\n",
       "    </tr>\n",
       "    <tr>\n",
       "      <th>3</th>\n",
       "      <td>False</td>\n",
       "    </tr>\n",
       "    <tr>\n",
       "      <th>4</th>\n",
       "      <td>True</td>\n",
       "    </tr>\n",
       "    <tr>\n",
       "      <th>...</th>\n",
       "      <td>...</td>\n",
       "    </tr>\n",
       "    <tr>\n",
       "      <th>885</th>\n",
       "      <td>False</td>\n",
       "    </tr>\n",
       "    <tr>\n",
       "      <th>886</th>\n",
       "      <td>True</td>\n",
       "    </tr>\n",
       "    <tr>\n",
       "      <th>887</th>\n",
       "      <td>False</td>\n",
       "    </tr>\n",
       "    <tr>\n",
       "      <th>889</th>\n",
       "      <td>True</td>\n",
       "    </tr>\n",
       "    <tr>\n",
       "      <th>890</th>\n",
       "      <td>True</td>\n",
       "    </tr>\n",
       "  </tbody>\n",
       "</table>\n",
       "<p>712 rows × 1 columns</p>\n",
       "</div>"
      ],
      "text/plain": [
       "      male\n",
       "0     True\n",
       "1    False\n",
       "2    False\n",
       "3    False\n",
       "4     True\n",
       "..     ...\n",
       "885  False\n",
       "886   True\n",
       "887  False\n",
       "889   True\n",
       "890   True\n",
       "\n",
       "[712 rows x 1 columns]"
      ]
     },
     "metadata": {},
     "output_type": "display_data"
    }
   ],
   "source": [
    "data_sexo = pd.get_dummies(data[\"Sex\"], drop_first=True)\n",
    "display(data_sexo)"
   ]
  },
  {
   "cell_type": "code",
   "execution_count": 291,
   "metadata": {},
   "outputs": [],
   "source": [
    "data = pd.concat([data, data_sexo], axis=1)"
   ]
  },
  {
   "cell_type": "markdown",
   "metadata": {},
   "source": [
    "### Se transforman booleanos a enteros"
   ]
  },
  {
   "cell_type": "code",
   "execution_count": 292,
   "metadata": {},
   "outputs": [],
   "source": [
    "for col in [\"male\"]:\n",
    "    data[col] = data[col].astype(int)"
   ]
  },
  {
   "cell_type": "markdown",
   "metadata": {},
   "source": [
    "### Se seleccionan algunas columnas para el ejempo"
   ]
  },
  {
   "cell_type": "code",
   "execution_count": 293,
   "metadata": {},
   "outputs": [],
   "source": [
    "data.drop([\"Name\", \"Ticket\", \"Sex\", \"Embarked\"], axis=1, inplace=True)"
   ]
  },
  {
   "cell_type": "code",
   "execution_count": 294,
   "metadata": {},
   "outputs": [
    {
     "data": {
      "text/html": [
       "<div>\n",
       "<style scoped>\n",
       "    .dataframe tbody tr th:only-of-type {\n",
       "        vertical-align: middle;\n",
       "    }\n",
       "\n",
       "    .dataframe tbody tr th {\n",
       "        vertical-align: top;\n",
       "    }\n",
       "\n",
       "    .dataframe thead th {\n",
       "        text-align: right;\n",
       "    }\n",
       "</style>\n",
       "<table border=\"1\" class=\"dataframe\">\n",
       "  <thead>\n",
       "    <tr style=\"text-align: right;\">\n",
       "      <th></th>\n",
       "      <th>PassengerId</th>\n",
       "      <th>Survived</th>\n",
       "      <th>Pclass</th>\n",
       "      <th>Age</th>\n",
       "      <th>SibSp</th>\n",
       "      <th>Parch</th>\n",
       "      <th>Fare</th>\n",
       "      <th>male</th>\n",
       "    </tr>\n",
       "  </thead>\n",
       "  <tbody>\n",
       "    <tr>\n",
       "      <th>0</th>\n",
       "      <td>1</td>\n",
       "      <td>0</td>\n",
       "      <td>3</td>\n",
       "      <td>22.0</td>\n",
       "      <td>1</td>\n",
       "      <td>0</td>\n",
       "      <td>7.2500</td>\n",
       "      <td>1</td>\n",
       "    </tr>\n",
       "    <tr>\n",
       "      <th>1</th>\n",
       "      <td>2</td>\n",
       "      <td>1</td>\n",
       "      <td>1</td>\n",
       "      <td>38.0</td>\n",
       "      <td>1</td>\n",
       "      <td>0</td>\n",
       "      <td>71.2833</td>\n",
       "      <td>0</td>\n",
       "    </tr>\n",
       "    <tr>\n",
       "      <th>2</th>\n",
       "      <td>3</td>\n",
       "      <td>1</td>\n",
       "      <td>3</td>\n",
       "      <td>26.0</td>\n",
       "      <td>0</td>\n",
       "      <td>0</td>\n",
       "      <td>7.9250</td>\n",
       "      <td>0</td>\n",
       "    </tr>\n",
       "    <tr>\n",
       "      <th>3</th>\n",
       "      <td>4</td>\n",
       "      <td>1</td>\n",
       "      <td>1</td>\n",
       "      <td>35.0</td>\n",
       "      <td>1</td>\n",
       "      <td>0</td>\n",
       "      <td>53.1000</td>\n",
       "      <td>0</td>\n",
       "    </tr>\n",
       "    <tr>\n",
       "      <th>4</th>\n",
       "      <td>5</td>\n",
       "      <td>0</td>\n",
       "      <td>3</td>\n",
       "      <td>35.0</td>\n",
       "      <td>0</td>\n",
       "      <td>0</td>\n",
       "      <td>8.0500</td>\n",
       "      <td>1</td>\n",
       "    </tr>\n",
       "  </tbody>\n",
       "</table>\n",
       "</div>"
      ],
      "text/plain": [
       "   PassengerId  Survived  Pclass   Age  SibSp  Parch     Fare  male\n",
       "0            1         0       3  22.0      1      0   7.2500     1\n",
       "1            2         1       1  38.0      1      0  71.2833     0\n",
       "2            3         1       3  26.0      0      0   7.9250     0\n",
       "3            4         1       1  35.0      1      0  53.1000     0\n",
       "4            5         0       3  35.0      0      0   8.0500     1"
      ]
     },
     "metadata": {},
     "output_type": "display_data"
    }
   ],
   "source": [
    "display(data.head())"
   ]
  },
  {
   "cell_type": "markdown",
   "metadata": {},
   "source": [
    "## Partición de los datos\n",
    "\n",
    "Se reserva un subconjunto de test."
   ]
  },
  {
   "cell_type": "code",
   "execution_count": 295,
   "metadata": {},
   "outputs": [],
   "source": [
    "y_data = data[\"Survived\"]\n",
    "\n",
    "x_data = data.drop(\"Survived\", axis=1)"
   ]
  },
  {
   "cell_type": "code",
   "execution_count": 296,
   "metadata": {},
   "outputs": [],
   "source": [
    "x_train, x_test, y_train, y_test = train_test_split(\n",
    "    x_data, y_data, test_size=TEST_SPLIT_SIZE, random_state=RANDOM_STATE\n",
    ")"
   ]
  },
  {
   "cell_type": "markdown",
   "metadata": {},
   "source": [
    "## Se instancian y entrenan los modelos"
   ]
  },
  {
   "cell_type": "markdown",
   "metadata": {},
   "source": [
    "#### Modelo RLO Scratch"
   ]
  },
  {
   "cell_type": "code",
   "execution_count": 297,
   "metadata": {},
   "outputs": [],
   "source": [
    "import numpy as np\n",
    "\n",
    "\n",
    "class RegresionLogisticaClassifierScratch:\n",
    "    def __init__(self, learning_rate=0.1, n_iter=100, monitorizar_loss=False):\n",
    "        self.learning_rate = learning_rate\n",
    "        self.n_iter = n_iter\n",
    "        self.b = 0\n",
    "        self.w = None  # Se reinicializará en el método `fit`\n",
    "\n",
    "        self._monitorizar_loss = monitorizar_loss\n",
    "\n",
    "    def fit(self, X: np.ndarray, y: np.ndarray) -> None:\n",
    "        \"\"\"\n",
    "        Ajuste del modelo de regresión logística.\n",
    "\n",
    "        :param X: Datos de entrada.\n",
    "        :param y: Etiquetas de clase.\n",
    "        \"\"\"\n",
    "        # Inicializar los pesos en función del número de características. Se inicializa tardíamente porque\n",
    "        # necesitamos saber el número de características de los datos de entrada, cosa que no sabemos en el\n",
    "        # constructor\n",
    "        self.w = np.zeros(X.shape[1])\n",
    "\n",
    "        # Iterar el número de épocas especificado\n",
    "        for i in range(self.n_iter):\n",
    "            # Predicción inicial: combinación lineal de los pesos y las características\n",
    "            y_hat = self.__predict(X, self.w, self.b)\n",
    "\n",
    "            # Aplica la función sigmoide para obtener probabilidades: mapear a `[0, 1]`\n",
    "            sig = self.__sigmoid(y_hat)\n",
    "\n",
    "            # Se calcula la pérdida, en este caso sólo para monitorización, si aplica\n",
    "            if self._monitorizar_loss:\n",
    "                loss = self.__loss(y, sig)\n",
    "\n",
    "                # Imprimir el valor de la pérdida cada 10 iteraciones\n",
    "                if (i + 1) % 10 == 0:\n",
    "                    print(f\"[Iter. {i+1}/{self.n_iter}] Loss = {loss}\")\n",
    "\n",
    "            # Se calculan los gradientes de los pesos y el sesgo\n",
    "            grad_w = self.__dldw(X, y, sig)\n",
    "            grad_b = self.__dldb(y, sig)\n",
    "\n",
    "            # Se actualizan los pesos y el sesgo realizando un paso de gradiente descendente\n",
    "            self.w = self.__update(self.w, grad_w, self.learning_rate)\n",
    "            self.b = self.__update(self.b, grad_b, self.learning_rate)\n",
    "\n",
    "    def predict(self, X: np.ndarray) -> np.ndarray:\n",
    "        \"\"\"\n",
    "        Predicción de las etiquetas de clase. Se devuelven las etiquetas predichas tras aplicar\n",
    "        un umbral de 0.5 a las probabilidades.\n",
    "\n",
    "        :param X: Datos de entrada.\n",
    "        :return: Etiquetas de clase predichas.\n",
    "        \"\"\"\n",
    "        # Predicción inicial: combinación lineal de los pesos y las características\n",
    "        y_hat = self.__predict(X, self.w, self.b)\n",
    "\n",
    "        # Aplica la función sigmoide para obtener probabilidades: mapear a `[0, 1]`\n",
    "        probs = self.__sigmoid(y_hat)\n",
    "\n",
    "        # Umbraliza las probabilidades para obtener las etiquetas de clase, que serían 0 o 1\n",
    "        return (probs >= 0.5).astype(int)\n",
    "\n",
    "    ###############################################################\n",
    "    # Se incluyen las funciones desarrolladas en las celdas anteriores como métodos privados\n",
    "    # de la clase. Se usan métodos estáticos por conveniencia, ya que no se necesita acceder\n",
    "    # a los atributos de la clase, que se pasan como argumentos a los métodos\n",
    "\n",
    "    @staticmethod\n",
    "    def __predict(X, w, b):\n",
    "        \"\"\"\n",
    "        Predicción: combinación lineal de los pesos y las características.\n",
    "\n",
    "        :param X: Datos de entrada.\n",
    "        :param w: Pesos.\n",
    "        :param b: Sesgo.\n",
    "        :return: Predicciones lineales.\n",
    "        \"\"\"\n",
    "        return np.dot(X, w) + b\n",
    "\n",
    "    @staticmethod\n",
    "    def __sigmoid(y_hat):\n",
    "        \"\"\"\n",
    "        Función sigmoide para mapear valores a probabilidades en el rango `[0, 1]`.\n",
    "\n",
    "        :param y_hat: Predicción lineal.\n",
    "        :return: Valores transformados a probabilidades.\n",
    "        \"\"\"\n",
    "        # Se limitan los valores de `y_hat` para evitar desbordamiento en la exponencial\n",
    "        y_hat = np.clip(y_hat, -500, 500)\n",
    "\n",
    "        return 1 / (1 + np.exp(-y_hat))\n",
    "\n",
    "    @staticmethod\n",
    "    def __loss(y, sigmoid):\n",
    "        \"\"\"\n",
    "        Función de pérdida logística.\n",
    "\n",
    "        :param y: Etiquetas verdaderas.\n",
    "        :param sigmoid: Predicciones probabilísticas.\n",
    "        :return: Pérdida promedio (escalar).\n",
    "        \"\"\"\n",
    "        # Se limitan los valores de `sigmoid` para evitar errores en el cálculo\n",
    "        sigmoid = np.clip(sigmoid, 1e-15, 1 - 1e-15)\n",
    "\n",
    "        return -(y * np.log(sigmoid) + (1 - y) * np.log(1 - sigmoid)).mean()\n",
    "\n",
    "    @staticmethod\n",
    "    def __dldw(X, y, sigmoid):\n",
    "        \"\"\"\n",
    "        Gradiente de la pérdida con respecto a los pesos.\n",
    "\n",
    "        :param X: Datos de entrada.\n",
    "        :param y: Etiquetas verdaderas.\n",
    "        :param sigmoid: Predicciones probabilísticas.\n",
    "        :return: Gradiente de los pesos.\n",
    "        \"\"\"\n",
    "        return np.dot(X.T, (sigmoid - y)) / X.shape[0]\n",
    "\n",
    "    @staticmethod\n",
    "    def __dldb(y, sigmoid):\n",
    "        \"\"\"\n",
    "        Gradiente de la pérdida con respecto al sesgo.\n",
    "\n",
    "        :param y: Etiquetas verdaderas.\n",
    "        :param sigmoid: Predicciones probabilísticas.\n",
    "        :return: Gradiente del sesgo.\n",
    "        \"\"\"\n",
    "        return (sigmoid - y).mean()\n",
    "\n",
    "    @staticmethod\n",
    "    def __update(a, g, lr):\n",
    "        \"\"\"\n",
    "        Actualiza el valor de los pesos o el sesgo usando gradiente descendente.\n",
    "\n",
    "        :param a: Valor actual.\n",
    "        :param g: Gradiente.\n",
    "        :param lr: Tasa de aprendizaje.\n",
    "        :return: Valor actualizado.\n",
    "        \"\"\"\n",
    "        return a - (g * lr)\n"
   ]
  },
  {
   "cell_type": "markdown",
   "metadata": {},
   "source": [
    "#### Modelo RLO Scikit-learn"
   ]
  },
  {
   "cell_type": "code",
   "execution_count": 298,
   "metadata": {},
   "outputs": [],
   "source": [
    "from sklearn.linear_model import LogisticRegression\n",
    "modelo_rlo_scikit = LogisticRegression()"
   ]
  },
  {
   "cell_type": "markdown",
   "metadata": {},
   "source": [
    "#### Modelo SVM de Scikit-learn"
   ]
  },
  {
   "cell_type": "code",
   "execution_count": 299,
   "metadata": {},
   "outputs": [],
   "source": [
    "from sklearn.svm import SVR\n",
    "modelo_svm = SVR()"
   ]
  },
  {
   "cell_type": "code",
   "execution_count": 300,
   "metadata": {},
   "outputs": [],
   "source": [
    "modelo_rlo_scratch =  RegresionLogisticaClassifierScratch()"
   ]
  },
  {
   "cell_type": "code",
   "execution_count": 301,
   "metadata": {},
   "outputs": [
    {
     "name": "stderr",
     "output_type": "stream",
     "text": [
      "d:\\Users\\O M E N\\miniconda3\\envs\\conda_env\\Lib\\site-packages\\sklearn\\linear_model\\_logistic.py:469: ConvergenceWarning: lbfgs failed to converge (status=1):\n",
      "STOP: TOTAL NO. of ITERATIONS REACHED LIMIT.\n",
      "\n",
      "Increase the number of iterations (max_iter) or scale the data as shown in:\n",
      "    https://scikit-learn.org/stable/modules/preprocessing.html\n",
      "Please also refer to the documentation for alternative solver options:\n",
      "    https://scikit-learn.org/stable/modules/linear_model.html#logistic-regression\n",
      "  n_iter_i = _check_optimize_result(\n"
     ]
    }
   ],
   "source": [
    "modelos = [modelo_svm, modelo_rlo_scikit,modelo_rlo_scratch ]\n",
    "for modelo in  modelos:\n",
    "    modelo.fit(x_train, y_train)\n",
    "\n"
   ]
  },
  {
   "cell_type": "markdown",
   "metadata": {},
   "source": [
    "## Evaluación del modelo\n",
    "\n",
    "En este caso se mide la **precisión** del modelo."
   ]
  },
  {
   "cell_type": "code",
   "execution_count": 302,
   "metadata": {},
   "outputs": [],
   "source": [
    "from sklearn.metrics import classification_report, accuracy_score\n",
    "def accuracy(y_true, y_pred):\n",
    "    return np.mean(y_true == y_pred)"
   ]
  },
  {
   "cell_type": "markdown",
   "metadata": {},
   "source": [
    "Debemos usar la función round para convertir los valores continuos a etiquetas binarias 0 o 1. EN modelos como el SVM o regresión lgística, se necesita redondear las predicciones a clases binarias"
   ]
  },
  {
   "cell_type": "code",
   "execution_count": 303,
   "metadata": {},
   "outputs": [
    {
     "name": "stdout",
     "output_type": "stream",
     "text": [
      "Test accuracy: 67 %.\n",
      "              precision    recall  f1-score   support\n",
      "\n",
      "           0       0.65      0.99      0.78       129\n",
      "           1       0.94      0.18      0.30        85\n",
      "\n",
      "    accuracy                           0.67       214\n",
      "   macro avg       0.79      0.58      0.54       214\n",
      "weighted avg       0.76      0.67      0.59       214\n",
      "\n",
      "Test accuracy: 78 %.\n",
      "              precision    recall  f1-score   support\n",
      "\n",
      "           0       0.80      0.84      0.82       129\n",
      "           1       0.73      0.68      0.71        85\n",
      "\n",
      "    accuracy                           0.78       214\n",
      "   macro avg       0.77      0.76      0.76       214\n",
      "weighted avg       0.77      0.78      0.77       214\n",
      "\n",
      "Test accuracy: 60 %.\n",
      "              precision    recall  f1-score   support\n",
      "\n",
      "           0       0.60      0.99      0.75       129\n",
      "           1       0.50      0.01      0.02        85\n",
      "\n",
      "    accuracy                           0.60       214\n",
      "   macro avg       0.55      0.50      0.39       214\n",
      "weighted avg       0.56      0.60      0.46       214\n",
      "\n"
     ]
    }
   ],
   "source": [
    "for modelo in modelos: \n",
    "    preds = modelo.predict(x_test)\n",
    "    preds = preds.round()  \n",
    "    # Accuracy score and classification report\n",
    "    print(f\"Test accuracy: {round(accuracy_score(y_test, preds)*100)} %.\")\n",
    "    print(classification_report(y_test, preds))"
   ]
  },
  {
   "cell_type": "markdown",
   "metadata": {},
   "source": [
    "## Contraste de modelos y conclusiones de los resultados\n",
    "\n",
    "Todos los modelos tienen una precisión bastante alta en la clasificación de la clase 0, muy por encima de los valores de la clase 0.\n",
    "\n",
    "Esto puede suceder por el desbalance en las clases, donde la clase 0 tiene muchas más muestras que la clase 1. Esto coincide con el gráfico que realizamos al principio, habiendo casi 200 muestras más de la clase 0 que de la clase 1.\n",
    "\n",
    "El modelo **RLO de Scikit** presenta un rendimiento superior con un 78% de precisión y un F1-Score balanceado para ambas clases (0.82 para clase 0 y 0.71 para clase 1). Es decir, es el modelo que mejor equilibra la clasifiación entre las clases.\n",
    "\n",
    "- **Clase 0**: Todos los modelos funcionan bien con la clase 0, pero el RLO-scikit es ligeramente mejor (F1-score de 0.82 frente a 0.75-0.78 en los otros).\n",
    "\n",
    "- **Clase 1**: El RLO-scikit tiene un rendimiento sólido con la clase 1 (F1-score de 0.71), mientras que el SVM (0.30) y el RLO-scratch (0.02) tienen dificultades significativas para clasificar correctamente esta clase.\n",
    "\n"
   ]
  }
 ],
 "metadata": {
  "kernelspec": {
   "display_name": "conda_env",
   "language": "python",
   "name": "python3"
  },
  "language_info": {
   "codemirror_mode": {
    "name": "ipython",
    "version": 3
   },
   "file_extension": ".py",
   "mimetype": "text/x-python",
   "name": "python",
   "nbconvert_exporter": "python",
   "pygments_lexer": "ipython3",
   "version": "3.12.3"
  }
 },
 "nbformat": 4,
 "nbformat_minor": 2
}
